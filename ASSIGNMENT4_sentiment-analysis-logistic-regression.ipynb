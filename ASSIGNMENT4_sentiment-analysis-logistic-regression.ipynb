{
 "cells": [
  {
   "cell_type": "markdown",
   "id": "8f7d8290",
   "metadata": {
    "papermill": {
     "duration": 0.010519,
     "end_time": "2024-04-28T21:32:40.756442",
     "exception": false,
     "start_time": "2024-04-28T21:32:40.745923",
     "status": "completed"
    },
    "tags": []
   },
   "source": [
    "# Sentiment Analysis using Logistic Regression & Different Feature Extraction Methods"
   ]
  },
  {
   "cell_type": "markdown",
   "id": "2761b3fa",
   "metadata": {
    "papermill": {
     "duration": 0.008397,
     "end_time": "2024-04-28T21:32:40.773613",
     "exception": false,
     "start_time": "2024-04-28T21:32:40.765216",
     "status": "completed"
    },
    "tags": []
   },
   "source": [
    "## Introduction\n",
    "\n",
    "In this notebook, I've performed Sentiment Analysis on a dataset using three different feature extraction techniques: Bag of Words (BoW), TF-IDF, and Word2Vec. \n",
    "\n",
    "I'll train Logistic Regression Models for Sentiment classification and compare their performance."
   ]
  },
  {
   "cell_type": "code",
   "execution_count": 1,
   "id": "9d2a5cba",
   "metadata": {
    "execution": {
     "iopub.execute_input": "2024-04-28T21:32:40.792320Z",
     "iopub.status.busy": "2024-04-28T21:32:40.791980Z",
     "iopub.status.idle": "2024-04-28T21:32:53.616493Z",
     "shell.execute_reply": "2024-04-28T21:32:53.615459Z"
    },
    "papermill": {
     "duration": 12.836453,
     "end_time": "2024-04-28T21:32:53.618780",
     "exception": false,
     "start_time": "2024-04-28T21:32:40.782327",
     "status": "completed"
    },
    "tags": []
   },
   "outputs": [
    {
     "name": "stdout",
     "output_type": "stream",
     "text": [
      "[nltk_data] Downloading package punkt to /usr/share/nltk_data...\n",
      "[nltk_data]   Package punkt is already up-to-date!\n",
      "[nltk_data] Downloading package stopwords to /usr/share/nltk_data...\n",
      "[nltk_data]   Package stopwords is already up-to-date!\n"
     ]
    },
    {
     "data": {
      "text/plain": [
       "True"
      ]
     },
     "execution_count": 1,
     "metadata": {},
     "output_type": "execute_result"
    }
   ],
   "source": [
    "import pandas as pd\n",
    "import numpy as np\n",
    "import re\n",
    "import nltk\n",
    "from nltk.corpus import stopwords\n",
    "from nltk.stem import PorterStemmer\n",
    "from sklearn.model_selection import train_test_split\n",
    "from sklearn.feature_extraction.text import CountVectorizer, TfidfVectorizer\n",
    "from sklearn.linear_model import LogisticRegression\n",
    "from sklearn.metrics import accuracy_score, classification_report, confusion_matrix\n",
    "from gensim.models import Word2Vec\n",
    "import matplotlib.pyplot as plt\n",
    "import seaborn as sns\n",
    "\n",
    "\n",
    "# nltk.download('punkt')\n",
    "# nltk.download('stopwords')"
   ]
  },
  {
   "cell_type": "code",
   "execution_count": 2,
   "id": "66ce971b",
   "metadata": {
    "execution": {
     "iopub.execute_input": "2024-04-28T21:32:53.640044Z",
     "iopub.status.busy": "2024-04-28T21:32:53.639555Z",
     "iopub.status.idle": "2024-04-28T21:32:53.646256Z",
     "shell.execute_reply": "2024-04-28T21:32:53.645282Z"
    },
    "papermill": {
     "duration": 0.01931,
     "end_time": "2024-04-28T21:32:53.648306",
     "exception": false,
     "start_time": "2024-04-28T21:32:53.628996",
     "status": "completed"
    },
    "tags": []
   },
   "outputs": [],
   "source": [
    "# Preprocessing function\n",
    "def preprocess_text(text):\n",
    "    text = str(text)\n",
    "    text = text.lower()\n",
    "    tokens = nltk.word_tokenize(text)\n",
    "    # Removing punctuation\n",
    "    tokens = [token for token in tokens if re.match(r'^\\w+$', token)]\n",
    "    # Removing stopwords\n",
    "    stop_words = set(stopwords.words('english'))\n",
    "    tokens = [token for token in tokens if token not in stop_words]\n",
    "    # Stemming\n",
    "    stemmer = PorterStemmer()\n",
    "    tokens = [stemmer.stem(token) for token in tokens]\n",
    "    return ' '.join(tokens)"
   ]
  },
  {
   "cell_type": "markdown",
   "id": "c62e49fe",
   "metadata": {
    "papermill": {
     "duration": 0.009704,
     "end_time": "2024-04-28T21:32:53.668102",
     "exception": false,
     "start_time": "2024-04-28T21:32:53.658398",
     "status": "completed"
    },
    "tags": []
   },
   "source": [
    "## Importing Training Data"
   ]
  },
  {
   "cell_type": "code",
   "execution_count": 3,
   "id": "513e9144",
   "metadata": {
    "execution": {
     "iopub.execute_input": "2024-04-28T21:32:53.688852Z",
     "iopub.status.busy": "2024-04-28T21:32:53.688526Z",
     "iopub.status.idle": "2024-04-28T21:33:30.492558Z",
     "shell.execute_reply": "2024-04-28T21:33:30.491769Z"
    },
    "papermill": {
     "duration": 36.817158,
     "end_time": "2024-04-28T21:33:30.494979",
     "exception": false,
     "start_time": "2024-04-28T21:32:53.677821",
     "status": "completed"
    },
    "tags": []
   },
   "outputs": [],
   "source": [
    "df_original_train = pd.read_csv(r\"B:\\MY Documents\\AmazonReviews_train.csv\", header=None, names=(\"polarity\", \"title\", \"text\"))\n",
    "df_train = df_original_train.sample(1000000)"
   ]
  },
  {
   "cell_type": "code",
   "execution_count": 4,
   "id": "18cd3712",
   "metadata": {
    "execution": {
     "iopub.execute_input": "2024-04-28T21:33:30.515891Z",
     "iopub.status.busy": "2024-04-28T21:33:30.515256Z",
     "iopub.status.idle": "2024-04-28T21:33:34.803567Z",
     "shell.execute_reply": "2024-04-28T21:33:34.802588Z"
    },
    "papermill": {
     "duration": 4.300706,
     "end_time": "2024-04-28T21:33:34.806000",
     "exception": false,
     "start_time": "2024-04-28T21:33:30.505294",
     "status": "completed"
    },
    "tags": []
   },
   "outputs": [],
   "source": [
    "df_original_test = pd.read_csv(r\"B:\\MY Documents\\AmazonReviews_test.csv\", header=None, names=(\"polarity\", \"title\", \"text\"))\n",
    "df_test = df_original_test"
   ]
  },
  {
   "cell_type": "code",
   "execution_count": 5,
   "id": "c48aac0c",
   "metadata": {
    "execution": {
     "iopub.execute_input": "2024-04-28T21:33:34.825939Z",
     "iopub.status.busy": "2024-04-28T21:33:34.825293Z",
     "iopub.status.idle": "2024-04-28T21:33:34.842288Z",
     "shell.execute_reply": "2024-04-28T21:33:34.841367Z"
    },
    "papermill": {
     "duration": 0.028737,
     "end_time": "2024-04-28T21:33:34.844164",
     "exception": false,
     "start_time": "2024-04-28T21:33:34.815427",
     "status": "completed"
    },
    "tags": []
   },
   "outputs": [
    {
     "data": {
      "text/html": [
       "<div>\n",
       "<style scoped>\n",
       "    .dataframe tbody tr th:only-of-type {\n",
       "        vertical-align: middle;\n",
       "    }\n",
       "\n",
       "    .dataframe tbody tr th {\n",
       "        vertical-align: top;\n",
       "    }\n",
       "\n",
       "    .dataframe thead th {\n",
       "        text-align: right;\n",
       "    }\n",
       "</style>\n",
       "<table border=\"1\" class=\"dataframe\">\n",
       "  <thead>\n",
       "    <tr style=\"text-align: right;\">\n",
       "      <th></th>\n",
       "      <th>polarity</th>\n",
       "      <th>title</th>\n",
       "      <th>text</th>\n",
       "    </tr>\n",
       "  </thead>\n",
       "  <tbody>\n",
       "    <tr>\n",
       "      <th>1235261</th>\n",
       "      <td>1</td>\n",
       "      <td>Disappointed, then Angry</td>\n",
       "      <td>This book is not simply a matter of the author...</td>\n",
       "    </tr>\n",
       "    <tr>\n",
       "      <th>987868</th>\n",
       "      <td>1</td>\n",
       "      <td>Wake me up, I've heard enough</td>\n",
       "      <td>If you like watered-down, dumbed down music, t...</td>\n",
       "    </tr>\n",
       "    <tr>\n",
       "      <th>3453986</th>\n",
       "      <td>2</td>\n",
       "      <td>Provides winning strategies</td>\n",
       "      <td>In this competitive market where every facet o...</td>\n",
       "    </tr>\n",
       "    <tr>\n",
       "      <th>3422396</th>\n",
       "      <td>2</td>\n",
       "      <td>Good purchase</td>\n",
       "      <td>Found it useful but it was SO full of informat...</td>\n",
       "    </tr>\n",
       "    <tr>\n",
       "      <th>859119</th>\n",
       "      <td>2</td>\n",
       "      <td>CHARLTON HESTON LIVES FOREVER!!!</td>\n",
       "      <td>How sad to have lost one of the greatest actor...</td>\n",
       "    </tr>\n",
       "  </tbody>\n",
       "</table>\n",
       "</div>"
      ],
      "text/plain": [
       "         polarity                             title  \\\n",
       "1235261         1          Disappointed, then Angry   \n",
       "987868          1     Wake me up, I've heard enough   \n",
       "3453986         2       Provides winning strategies   \n",
       "3422396         2                     Good purchase   \n",
       "859119          2  CHARLTON HESTON LIVES FOREVER!!!   \n",
       "\n",
       "                                                      text  \n",
       "1235261  This book is not simply a matter of the author...  \n",
       "987868   If you like watered-down, dumbed down music, t...  \n",
       "3453986  In this competitive market where every facet o...  \n",
       "3422396  Found it useful but it was SO full of informat...  \n",
       "859119   How sad to have lost one of the greatest actor...  "
      ]
     },
     "execution_count": 5,
     "metadata": {},
     "output_type": "execute_result"
    }
   ],
   "source": [
    "df_train.head()"
   ]
  },
  {
   "cell_type": "code",
   "execution_count": 6,
   "id": "c697c8b7",
   "metadata": {
    "execution": {
     "iopub.execute_input": "2024-04-28T21:33:34.863567Z",
     "iopub.status.busy": "2024-04-28T21:33:34.863322Z",
     "iopub.status.idle": "2024-04-28T21:33:34.872318Z",
     "shell.execute_reply": "2024-04-28T21:33:34.871541Z"
    },
    "papermill": {
     "duration": 0.020684,
     "end_time": "2024-04-28T21:33:34.874107",
     "exception": false,
     "start_time": "2024-04-28T21:33:34.853423",
     "status": "completed"
    },
    "tags": []
   },
   "outputs": [
    {
     "data": {
      "text/html": [
       "<div>\n",
       "<style scoped>\n",
       "    .dataframe tbody tr th:only-of-type {\n",
       "        vertical-align: middle;\n",
       "    }\n",
       "\n",
       "    .dataframe tbody tr th {\n",
       "        vertical-align: top;\n",
       "    }\n",
       "\n",
       "    .dataframe thead th {\n",
       "        text-align: right;\n",
       "    }\n",
       "</style>\n",
       "<table border=\"1\" class=\"dataframe\">\n",
       "  <thead>\n",
       "    <tr style=\"text-align: right;\">\n",
       "      <th></th>\n",
       "      <th>polarity</th>\n",
       "      <th>title</th>\n",
       "      <th>text</th>\n",
       "    </tr>\n",
       "  </thead>\n",
       "  <tbody>\n",
       "    <tr>\n",
       "      <th>0</th>\n",
       "      <td>2</td>\n",
       "      <td>Great CD</td>\n",
       "      <td>My lovely Pat has one of the GREAT voices of h...</td>\n",
       "    </tr>\n",
       "    <tr>\n",
       "      <th>1</th>\n",
       "      <td>2</td>\n",
       "      <td>One of the best game music soundtracks - for a...</td>\n",
       "      <td>Despite the fact that I have only played a sma...</td>\n",
       "    </tr>\n",
       "    <tr>\n",
       "      <th>2</th>\n",
       "      <td>1</td>\n",
       "      <td>Batteries died within a year ...</td>\n",
       "      <td>I bought this charger in Jul 2003 and it worke...</td>\n",
       "    </tr>\n",
       "    <tr>\n",
       "      <th>3</th>\n",
       "      <td>2</td>\n",
       "      <td>works fine, but Maha Energy is better</td>\n",
       "      <td>Check out Maha Energy's website. Their Powerex...</td>\n",
       "    </tr>\n",
       "    <tr>\n",
       "      <th>4</th>\n",
       "      <td>2</td>\n",
       "      <td>Great for the non-audiophile</td>\n",
       "      <td>Reviewed quite a bit of the combo players and ...</td>\n",
       "    </tr>\n",
       "  </tbody>\n",
       "</table>\n",
       "</div>"
      ],
      "text/plain": [
       "   polarity                                              title  \\\n",
       "0         2                                           Great CD   \n",
       "1         2  One of the best game music soundtracks - for a...   \n",
       "2         1                   Batteries died within a year ...   \n",
       "3         2              works fine, but Maha Energy is better   \n",
       "4         2                       Great for the non-audiophile   \n",
       "\n",
       "                                                text  \n",
       "0  My lovely Pat has one of the GREAT voices of h...  \n",
       "1  Despite the fact that I have only played a sma...  \n",
       "2  I bought this charger in Jul 2003 and it worke...  \n",
       "3  Check out Maha Energy's website. Their Powerex...  \n",
       "4  Reviewed quite a bit of the combo players and ...  "
      ]
     },
     "execution_count": 6,
     "metadata": {},
     "output_type": "execute_result"
    }
   ],
   "source": [
    "df_test.head()"
   ]
  },
  {
   "cell_type": "markdown",
   "id": "9d6de2c4",
   "metadata": {
    "papermill": {
     "duration": 0.009116,
     "end_time": "2024-04-28T21:33:34.892783",
     "exception": false,
     "start_time": "2024-04-28T21:33:34.883667",
     "status": "completed"
    },
    "tags": []
   },
   "source": [
    "## Data Pre-Processing"
   ]
  },
  {
   "cell_type": "code",
   "execution_count": 7,
   "id": "c390ebac",
   "metadata": {
    "execution": {
     "iopub.execute_input": "2024-04-28T21:33:34.913061Z",
     "iopub.status.busy": "2024-04-28T21:33:34.912430Z",
     "iopub.status.idle": "2024-04-28T22:18:17.966816Z",
     "shell.execute_reply": "2024-04-28T22:18:17.965871Z"
    },
    "papermill": {
     "duration": 2683.076667,
     "end_time": "2024-04-28T22:18:17.978792",
     "exception": false,
     "start_time": "2024-04-28T21:33:34.902125",
     "status": "completed"
    },
    "tags": []
   },
   "outputs": [
    {
     "data": {
      "text/html": [
       "<div>\n",
       "<style scoped>\n",
       "    .dataframe tbody tr th:only-of-type {\n",
       "        vertical-align: middle;\n",
       "    }\n",
       "\n",
       "    .dataframe tbody tr th {\n",
       "        vertical-align: top;\n",
       "    }\n",
       "\n",
       "    .dataframe thead th {\n",
       "        text-align: right;\n",
       "    }\n",
       "</style>\n",
       "<table border=\"1\" class=\"dataframe\">\n",
       "  <thead>\n",
       "    <tr style=\"text-align: right;\">\n",
       "      <th></th>\n",
       "      <th>polarity</th>\n",
       "      <th>title</th>\n",
       "      <th>text</th>\n",
       "      <th>clean_text</th>\n",
       "    </tr>\n",
       "  </thead>\n",
       "  <tbody>\n",
       "    <tr>\n",
       "      <th>1235261</th>\n",
       "      <td>1</td>\n",
       "      <td>Disappointed, then Angry</td>\n",
       "      <td>This book is not simply a matter of the author...</td>\n",
       "      <td>disappoint angri book simpli matter author rep...</td>\n",
       "    </tr>\n",
       "    <tr>\n",
       "      <th>987868</th>\n",
       "      <td>1</td>\n",
       "      <td>Wake me up, I've heard enough</td>\n",
       "      <td>If you like watered-down, dumbed down music, t...</td>\n",
       "      <td>wake heard enough like dumb music may cup weak...</td>\n",
       "    </tr>\n",
       "    <tr>\n",
       "      <th>3453986</th>\n",
       "      <td>2</td>\n",
       "      <td>Provides winning strategies</td>\n",
       "      <td>In this competitive market where every facet o...</td>\n",
       "      <td>provid win strategi competit market everi face...</td>\n",
       "    </tr>\n",
       "    <tr>\n",
       "      <th>3422396</th>\n",
       "      <td>2</td>\n",
       "      <td>Good purchase</td>\n",
       "      <td>Found it useful but it was SO full of informat...</td>\n",
       "      <td>good purchas found use full inform read much s...</td>\n",
       "    </tr>\n",
       "    <tr>\n",
       "      <th>859119</th>\n",
       "      <td>2</td>\n",
       "      <td>CHARLTON HESTON LIVES FOREVER!!!</td>\n",
       "      <td>How sad to have lost one of the greatest actor...</td>\n",
       "      <td>charlton heston live forev sad lost one greate...</td>\n",
       "    </tr>\n",
       "  </tbody>\n",
       "</table>\n",
       "</div>"
      ],
      "text/plain": [
       "         polarity                             title  \\\n",
       "1235261         1          Disappointed, then Angry   \n",
       "987868          1     Wake me up, I've heard enough   \n",
       "3453986         2       Provides winning strategies   \n",
       "3422396         2                     Good purchase   \n",
       "859119          2  CHARLTON HESTON LIVES FOREVER!!!   \n",
       "\n",
       "                                                      text  \\\n",
       "1235261  This book is not simply a matter of the author...   \n",
       "987868   If you like watered-down, dumbed down music, t...   \n",
       "3453986  In this competitive market where every facet o...   \n",
       "3422396  Found it useful but it was SO full of informat...   \n",
       "859119   How sad to have lost one of the greatest actor...   \n",
       "\n",
       "                                                clean_text  \n",
       "1235261  disappoint angri book simpli matter author rep...  \n",
       "987868   wake heard enough like dumb music may cup weak...  \n",
       "3453986  provid win strategi competit market everi face...  \n",
       "3422396  good purchas found use full inform read much s...  \n",
       "859119   charlton heston live forev sad lost one greate...  "
      ]
     },
     "execution_count": 7,
     "metadata": {},
     "output_type": "execute_result"
    }
   ],
   "source": [
    "df_train[\"clean_text\"] = df_train[\"title\"] + \" \" + df_train[\"text\"]\n",
    "df_train[\"clean_text\"] = df_train[\"clean_text\"].apply(preprocess_text)\n",
    "df_train.head()"
   ]
  },
  {
   "cell_type": "code",
   "execution_count": 8,
   "id": "62aec609",
   "metadata": {
    "execution": {
     "iopub.execute_input": "2024-04-28T22:18:18.000030Z",
     "iopub.status.busy": "2024-04-28T22:18:17.999240Z",
     "iopub.status.idle": "2024-04-28T22:36:22.949783Z",
     "shell.execute_reply": "2024-04-28T22:36:22.948881Z"
    },
    "papermill": {
     "duration": 1084.973342,
     "end_time": "2024-04-28T22:36:22.961931",
     "exception": false,
     "start_time": "2024-04-28T22:18:17.988589",
     "status": "completed"
    },
    "tags": []
   },
   "outputs": [
    {
     "data": {
      "text/html": [
       "<div>\n",
       "<style scoped>\n",
       "    .dataframe tbody tr th:only-of-type {\n",
       "        vertical-align: middle;\n",
       "    }\n",
       "\n",
       "    .dataframe tbody tr th {\n",
       "        vertical-align: top;\n",
       "    }\n",
       "\n",
       "    .dataframe thead th {\n",
       "        text-align: right;\n",
       "    }\n",
       "</style>\n",
       "<table border=\"1\" class=\"dataframe\">\n",
       "  <thead>\n",
       "    <tr style=\"text-align: right;\">\n",
       "      <th></th>\n",
       "      <th>polarity</th>\n",
       "      <th>title</th>\n",
       "      <th>text</th>\n",
       "      <th>clean_text</th>\n",
       "    </tr>\n",
       "  </thead>\n",
       "  <tbody>\n",
       "    <tr>\n",
       "      <th>0</th>\n",
       "      <td>2</td>\n",
       "      <td>Great CD</td>\n",
       "      <td>My lovely Pat has one of the GREAT voices of h...</td>\n",
       "      <td>great cd love pat one great voic gener listen ...</td>\n",
       "    </tr>\n",
       "    <tr>\n",
       "      <th>1</th>\n",
       "      <td>2</td>\n",
       "      <td>One of the best game music soundtracks - for a...</td>\n",
       "      <td>Despite the fact that I have only played a sma...</td>\n",
       "      <td>one best game music soundtrack game realli pla...</td>\n",
       "    </tr>\n",
       "    <tr>\n",
       "      <th>2</th>\n",
       "      <td>1</td>\n",
       "      <td>Batteries died within a year ...</td>\n",
       "      <td>I bought this charger in Jul 2003 and it worke...</td>\n",
       "      <td>batteri die within year bought charger jul 200...</td>\n",
       "    </tr>\n",
       "    <tr>\n",
       "      <th>3</th>\n",
       "      <td>2</td>\n",
       "      <td>works fine, but Maha Energy is better</td>\n",
       "      <td>Check out Maha Energy's website. Their Powerex...</td>\n",
       "      <td>work fine maha energi better check maha energi...</td>\n",
       "    </tr>\n",
       "    <tr>\n",
       "      <th>4</th>\n",
       "      <td>2</td>\n",
       "      <td>Great for the non-audiophile</td>\n",
       "      <td>Reviewed quite a bit of the combo players and ...</td>\n",
       "      <td>great review quit bit combo player hesit due u...</td>\n",
       "    </tr>\n",
       "  </tbody>\n",
       "</table>\n",
       "</div>"
      ],
      "text/plain": [
       "   polarity                                              title  \\\n",
       "0         2                                           Great CD   \n",
       "1         2  One of the best game music soundtracks - for a...   \n",
       "2         1                   Batteries died within a year ...   \n",
       "3         2              works fine, but Maha Energy is better   \n",
       "4         2                       Great for the non-audiophile   \n",
       "\n",
       "                                                text  \\\n",
       "0  My lovely Pat has one of the GREAT voices of h...   \n",
       "1  Despite the fact that I have only played a sma...   \n",
       "2  I bought this charger in Jul 2003 and it worke...   \n",
       "3  Check out Maha Energy's website. Their Powerex...   \n",
       "4  Reviewed quite a bit of the combo players and ...   \n",
       "\n",
       "                                          clean_text  \n",
       "0  great cd love pat one great voic gener listen ...  \n",
       "1  one best game music soundtrack game realli pla...  \n",
       "2  batteri die within year bought charger jul 200...  \n",
       "3  work fine maha energi better check maha energi...  \n",
       "4  great review quit bit combo player hesit due u...  "
      ]
     },
     "execution_count": 8,
     "metadata": {},
     "output_type": "execute_result"
    }
   ],
   "source": [
    "df_test[\"clean_text\"] = df_test[\"title\"] + \" \" + df_test[\"text\"]\n",
    "df_test[\"clean_text\"] = df_test[\"clean_text\"].apply(preprocess_text)\n",
    "df_test.head()"
   ]
  },
  {
   "cell_type": "markdown",
   "id": "88e925a3",
   "metadata": {
    "papermill": {
     "duration": 0.009788,
     "end_time": "2024-04-28T22:36:22.981614",
     "exception": false,
     "start_time": "2024-04-28T22:36:22.971826",
     "status": "completed"
    },
    "tags": []
   },
   "source": [
    "## Split X & Y"
   ]
  },
  {
   "cell_type": "code",
   "execution_count": 9,
   "id": "95803da6",
   "metadata": {
    "execution": {
     "iopub.execute_input": "2024-04-28T22:36:23.002581Z",
     "iopub.status.busy": "2024-04-28T22:36:23.002284Z",
     "iopub.status.idle": "2024-04-28T22:36:23.006716Z",
     "shell.execute_reply": "2024-04-28T22:36:23.005889Z"
    },
    "papermill": {
     "duration": 0.017152,
     "end_time": "2024-04-28T22:36:23.008648",
     "exception": false,
     "start_time": "2024-04-28T22:36:22.991496",
     "status": "completed"
    },
    "tags": []
   },
   "outputs": [],
   "source": [
    "X_train = df_train[\"clean_text\"]\n",
    "y_train = df_train[\"polarity\"]\n",
    "\n",
    "X_test = df_test[\"clean_text\"]\n",
    "y_test = df_test[\"polarity\"]"
   ]
  },
  {
   "cell_type": "markdown",
   "id": "667399a7",
   "metadata": {
    "papermill": {
     "duration": 0.009818,
     "end_time": "2024-04-28T22:36:23.028531",
     "exception": false,
     "start_time": "2024-04-28T22:36:23.018713",
     "status": "completed"
    },
    "tags": []
   },
   "source": [
    "## Feature Extraction\n",
    "\n",
    "Now I'll Extract Features from the Text using BoW, TF-IDF & Word2Vec"
   ]
  },
  {
   "cell_type": "markdown",
   "id": "5c784e5d",
   "metadata": {
    "papermill": {
     "duration": 0.009961,
     "end_time": "2024-04-28T22:36:23.048366",
     "exception": false,
     "start_time": "2024-04-28T22:36:23.038405",
     "status": "completed"
    },
    "tags": []
   },
   "source": [
    "### BoW: Bag of Words\n",
    "\n",
    "BoW is a simple text representation technique in natural language processing where a document is represented as a collection of words, disregarding grammar and word order, focusing solely on word frequency."
   ]
  },
  {
   "cell_type": "code",
   "execution_count": 10,
   "id": "d5e8842c",
   "metadata": {
    "execution": {
     "iopub.execute_input": "2024-04-28T22:36:23.070273Z",
     "iopub.status.busy": "2024-04-28T22:36:23.069575Z",
     "iopub.status.idle": "2024-04-28T22:37:24.557442Z",
     "shell.execute_reply": "2024-04-28T22:37:24.556642Z"
    },
    "papermill": {
     "duration": 61.501266,
     "end_time": "2024-04-28T22:37:24.559743",
     "exception": false,
     "start_time": "2024-04-28T22:36:23.058477",
     "status": "completed"
    },
    "tags": []
   },
   "outputs": [],
   "source": [
    "bow_vectorizer = CountVectorizer()\n",
    "X_train_bow = bow_vectorizer.fit_transform(X_train)\n",
    "X_test_bow = bow_vectorizer.transform(X_test)"
   ]
  },
  {
   "cell_type": "markdown",
   "id": "77dc35b9",
   "metadata": {
    "papermill": {
     "duration": 0.009911,
     "end_time": "2024-04-28T22:37:24.580382",
     "exception": false,
     "start_time": "2024-04-28T22:37:24.570471",
     "status": "completed"
    },
    "tags": []
   },
   "source": [
    "### TF-IDF: Term Frequency - Inverse Document Frequency\n",
    "\n",
    "TF-IDF is a statistical measure used in natural language processing to evaluate the importance of a word in a document relative to a corpus. It reflects how often a word appears in a document (TF) balanced by how rare it is across all documents in the corpus (IDF)."
   ]
  },
  {
   "cell_type": "code",
   "execution_count": 11,
   "id": "3b5778ff",
   "metadata": {
    "execution": {
     "iopub.execute_input": "2024-04-28T22:37:24.601569Z",
     "iopub.status.busy": "2024-04-28T22:37:24.601268Z",
     "iopub.status.idle": "2024-04-28T22:38:29.248045Z",
     "shell.execute_reply": "2024-04-28T22:38:29.247151Z"
    },
    "papermill": {
     "duration": 64.660055,
     "end_time": "2024-04-28T22:38:29.250368",
     "exception": false,
     "start_time": "2024-04-28T22:37:24.590313",
     "status": "completed"
    },
    "tags": []
   },
   "outputs": [],
   "source": [
    "tfidf_vectorizer = TfidfVectorizer()\n",
    "X_train_tfidf = tfidf_vectorizer.fit_transform(X_train)\n",
    "X_test_tfidf = tfidf_vectorizer.transform(X_test)"
   ]
  },
  {
   "cell_type": "markdown",
   "id": "a656adfe",
   "metadata": {
    "papermill": {
     "duration": 0.010271,
     "end_time": "2024-04-28T22:38:29.272643",
     "exception": false,
     "start_time": "2024-04-28T22:38:29.262372",
     "status": "completed"
    },
    "tags": []
   },
   "source": [
    "### Word Embedding using Word2Vec\n",
    "\n",
    "Word Embedding is a technique in natural language processing where words are represented as dense vectors in a continuous vector space, capturing semantic relationships between words based on their context and meaning.\n",
    "\n",
    "Word2Vec is a popular word embedding technique that learns distributed representations of words in a continuous vector space by capturing semantic relationships through the use of shallow neural networks, specifically skip-gram and continuous bag-of-words (CBOW) models."
   ]
  },
  {
   "cell_type": "markdown",
   "id": "f58a4390",
   "metadata": {
    "papermill": {
     "duration": 0.009754,
     "end_time": "2024-04-28T22:38:29.292376",
     "exception": false,
     "start_time": "2024-04-28T22:38:29.282622",
     "status": "completed"
    },
    "tags": []
   },
   "source": [
    "#### Train Word2Vec Model"
   ]
  },
  {
   "cell_type": "code",
   "execution_count": 12,
   "id": "a3f5bcba",
   "metadata": {
    "execution": {
     "iopub.execute_input": "2024-04-28T22:38:29.313843Z",
     "iopub.status.busy": "2024-04-28T22:38:29.313508Z",
     "iopub.status.idle": "2024-04-28T22:50:13.105623Z",
     "shell.execute_reply": "2024-04-28T22:50:13.104725Z"
    },
    "papermill": {
     "duration": 703.805681,
     "end_time": "2024-04-28T22:50:13.108173",
     "exception": false,
     "start_time": "2024-04-28T22:38:29.302492",
     "status": "completed"
    },
    "tags": []
   },
   "outputs": [],
   "source": [
    "vector_size = 250\n",
    "sentences = [nltk.word_tokenize(sentence) for sentence in df_train['clean_text']]\n",
    "word2vec_model = Word2Vec(sentences, min_count=1, vector_size=vector_size)"
   ]
  },
  {
   "cell_type": "code",
   "execution_count": 13,
   "id": "cd7e2792",
   "metadata": {
    "execution": {
     "iopub.execute_input": "2024-04-28T22:50:13.131564Z",
     "iopub.status.busy": "2024-04-28T22:50:13.131255Z",
     "iopub.status.idle": "2024-04-28T22:50:13.152096Z",
     "shell.execute_reply": "2024-04-28T22:50:13.151225Z"
    },
    "papermill": {
     "duration": 0.034886,
     "end_time": "2024-04-28T22:50:13.153981",
     "exception": false,
     "start_time": "2024-04-28T22:50:13.119095",
     "status": "completed"
    },
    "tags": []
   },
   "outputs": [],
   "source": [
    "# Extract document embeddings using word vectors\n",
    "def get_document_embedding(text, word2vec_model, vector_size):\n",
    "    word_vectors = [word2vec_model.wv[word] for word in nltk.word_tokenize(text) if word in word2vec_model.wv]\n",
    "    if word_vectors:\n",
    "        return np.mean(word_vectors, axis=0)\n",
    "    else:\n",
    "        return np.zeros(vector_size)"
   ]
  },
  {
   "cell_type": "code",
   "execution_count": 14,
   "id": "a67dbc28",
   "metadata": {
    "execution": {
     "iopub.execute_input": "2024-04-28T22:50:13.175821Z",
     "iopub.status.busy": "2024-04-28T22:50:13.175551Z",
     "iopub.status.idle": "2024-04-28T23:04:00.586739Z",
     "shell.execute_reply": "2024-04-28T23:04:00.585709Z"
    },
    "papermill": {
     "duration": 827.425234,
     "end_time": "2024-04-28T23:04:00.589749",
     "exception": false,
     "start_time": "2024-04-28T22:50:13.164515",
     "status": "completed"
    },
    "tags": []
   },
   "outputs": [],
   "source": [
    "X_train_word2vec = np.array([get_document_embedding(text, word2vec_model, vector_size) for text in X_train])\n",
    "X_test_word2vec = np.array([get_document_embedding(text, word2vec_model, vector_size) for text in X_test])"
   ]
  },
  {
   "cell_type": "markdown",
   "id": "bfdecd03",
   "metadata": {
    "papermill": {
     "duration": 0.009946,
     "end_time": "2024-04-28T23:04:00.610543",
     "exception": false,
     "start_time": "2024-04-28T23:04:00.600597",
     "status": "completed"
    },
    "tags": []
   },
   "source": [
    "## Logistic Regression Model Training"
   ]
  },
  {
   "cell_type": "markdown",
   "id": "2c83a078",
   "metadata": {
    "papermill": {
     "duration": 0.010329,
     "end_time": "2024-04-28T23:04:00.630956",
     "exception": false,
     "start_time": "2024-04-28T23:04:00.620627",
     "status": "completed"
    },
    "tags": []
   },
   "source": [
    "### LR using BoW"
   ]
  },
  {
   "cell_type": "code",
   "execution_count": 15,
   "id": "6661c649",
   "metadata": {
    "execution": {
     "iopub.execute_input": "2024-04-28T23:04:00.655634Z",
     "iopub.status.busy": "2024-04-28T23:04:00.655319Z",
     "iopub.status.idle": "2024-04-28T23:12:36.470795Z",
     "shell.execute_reply": "2024-04-28T23:12:36.469381Z"
    },
    "papermill": {
     "duration": 515.855915,
     "end_time": "2024-04-28T23:12:36.496950",
     "exception": false,
     "start_time": "2024-04-28T23:04:00.641035",
     "status": "completed"
    },
    "tags": []
   },
   "outputs": [
    {
     "data": {
      "text/html": [
       "<style>#sk-container-id-1 {color: black;background-color: white;}#sk-container-id-1 pre{padding: 0;}#sk-container-id-1 div.sk-toggleable {background-color: white;}#sk-container-id-1 label.sk-toggleable__label {cursor: pointer;display: block;width: 100%;margin-bottom: 0;padding: 0.3em;box-sizing: border-box;text-align: center;}#sk-container-id-1 label.sk-toggleable__label-arrow:before {content: \"▸\";float: left;margin-right: 0.25em;color: #696969;}#sk-container-id-1 label.sk-toggleable__label-arrow:hover:before {color: black;}#sk-container-id-1 div.sk-estimator:hover label.sk-toggleable__label-arrow:before {color: black;}#sk-container-id-1 div.sk-toggleable__content {max-height: 0;max-width: 0;overflow: hidden;text-align: left;background-color: #f0f8ff;}#sk-container-id-1 div.sk-toggleable__content pre {margin: 0.2em;color: black;border-radius: 0.25em;background-color: #f0f8ff;}#sk-container-id-1 input.sk-toggleable__control:checked~div.sk-toggleable__content {max-height: 200px;max-width: 100%;overflow: auto;}#sk-container-id-1 input.sk-toggleable__control:checked~label.sk-toggleable__label-arrow:before {content: \"▾\";}#sk-container-id-1 div.sk-estimator input.sk-toggleable__control:checked~label.sk-toggleable__label {background-color: #d4ebff;}#sk-container-id-1 div.sk-label input.sk-toggleable__control:checked~label.sk-toggleable__label {background-color: #d4ebff;}#sk-container-id-1 input.sk-hidden--visually {border: 0;clip: rect(1px 1px 1px 1px);clip: rect(1px, 1px, 1px, 1px);height: 1px;margin: -1px;overflow: hidden;padding: 0;position: absolute;width: 1px;}#sk-container-id-1 div.sk-estimator {font-family: monospace;background-color: #f0f8ff;border: 1px dotted black;border-radius: 0.25em;box-sizing: border-box;margin-bottom: 0.5em;}#sk-container-id-1 div.sk-estimator:hover {background-color: #d4ebff;}#sk-container-id-1 div.sk-parallel-item::after {content: \"\";width: 100%;border-bottom: 1px solid gray;flex-grow: 1;}#sk-container-id-1 div.sk-label:hover label.sk-toggleable__label {background-color: #d4ebff;}#sk-container-id-1 div.sk-serial::before {content: \"\";position: absolute;border-left: 1px solid gray;box-sizing: border-box;top: 0;bottom: 0;left: 50%;z-index: 0;}#sk-container-id-1 div.sk-serial {display: flex;flex-direction: column;align-items: center;background-color: white;padding-right: 0.2em;padding-left: 0.2em;position: relative;}#sk-container-id-1 div.sk-item {position: relative;z-index: 1;}#sk-container-id-1 div.sk-parallel {display: flex;align-items: stretch;justify-content: center;background-color: white;position: relative;}#sk-container-id-1 div.sk-item::before, #sk-container-id-1 div.sk-parallel-item::before {content: \"\";position: absolute;border-left: 1px solid gray;box-sizing: border-box;top: 0;bottom: 0;left: 50%;z-index: -1;}#sk-container-id-1 div.sk-parallel-item {display: flex;flex-direction: column;z-index: 1;position: relative;background-color: white;}#sk-container-id-1 div.sk-parallel-item:first-child::after {align-self: flex-end;width: 50%;}#sk-container-id-1 div.sk-parallel-item:last-child::after {align-self: flex-start;width: 50%;}#sk-container-id-1 div.sk-parallel-item:only-child::after {width: 0;}#sk-container-id-1 div.sk-dashed-wrapped {border: 1px dashed gray;margin: 0 0.4em 0.5em 0.4em;box-sizing: border-box;padding-bottom: 0.4em;background-color: white;}#sk-container-id-1 div.sk-label label {font-family: monospace;font-weight: bold;display: inline-block;line-height: 1.2em;}#sk-container-id-1 div.sk-label-container {text-align: center;}#sk-container-id-1 div.sk-container {/* jupyter's `normalize.less` sets `[hidden] { display: none; }` but bootstrap.min.css set `[hidden] { display: none !important; }` so we also need the `!important` here to be able to override the default hidden behavior on the sphinx rendered scikit-learn.org. See: https://github.com/scikit-learn/scikit-learn/issues/21755 */display: inline-block !important;position: relative;}#sk-container-id-1 div.sk-text-repr-fallback {display: none;}</style><div id=\"sk-container-id-1\" class=\"sk-top-container\"><div class=\"sk-text-repr-fallback\"><pre>LogisticRegression(max_iter=1000000)</pre><b>In a Jupyter environment, please rerun this cell to show the HTML representation or trust the notebook. <br />On GitHub, the HTML representation is unable to render, please try loading this page with nbviewer.org.</b></div><div class=\"sk-container\" hidden><div class=\"sk-item\"><div class=\"sk-estimator sk-toggleable\"><input class=\"sk-toggleable__control sk-hidden--visually\" id=\"sk-estimator-id-1\" type=\"checkbox\" checked><label for=\"sk-estimator-id-1\" class=\"sk-toggleable__label sk-toggleable__label-arrow\">LogisticRegression</label><div class=\"sk-toggleable__content\"><pre>LogisticRegression(max_iter=1000000)</pre></div></div></div></div></div>"
      ],
      "text/plain": [
       "LogisticRegression(max_iter=1000000)"
      ]
     },
     "execution_count": 15,
     "metadata": {},
     "output_type": "execute_result"
    }
   ],
   "source": [
    "lr_bow = LogisticRegression(max_iter=X_train_bow.shape[0])\n",
    "lr_bow.fit(X_train_bow, y_train)"
   ]
  },
  {
   "cell_type": "code",
   "execution_count": 16,
   "id": "e7e27ef1",
   "metadata": {
    "execution": {
     "iopub.execute_input": "2024-04-28T23:12:36.545151Z",
     "iopub.status.busy": "2024-04-28T23:12:36.543788Z",
     "iopub.status.idle": "2024-04-28T23:12:36.611072Z",
     "shell.execute_reply": "2024-04-28T23:12:36.610087Z"
    },
    "papermill": {
     "duration": 0.093388,
     "end_time": "2024-04-28T23:12:36.613141",
     "exception": false,
     "start_time": "2024-04-28T23:12:36.519753",
     "status": "completed"
    },
    "tags": []
   },
   "outputs": [],
   "source": [
    "y_pred_bow = lr_bow.predict(X_test_bow)"
   ]
  },
  {
   "cell_type": "code",
   "execution_count": 17,
   "id": "5ece81cb",
   "metadata": {
    "execution": {
     "iopub.execute_input": "2024-04-28T23:12:36.635854Z",
     "iopub.status.busy": "2024-04-28T23:12:36.635563Z",
     "iopub.status.idle": "2024-04-28T23:12:36.803446Z",
     "shell.execute_reply": "2024-04-28T23:12:36.802453Z"
    },
    "papermill": {
     "duration": 0.181722,
     "end_time": "2024-04-28T23:12:36.805625",
     "exception": false,
     "start_time": "2024-04-28T23:12:36.623903",
     "status": "completed"
    },
    "tags": []
   },
   "outputs": [
    {
     "name": "stdout",
     "output_type": "stream",
     "text": [
      "Logistic Regression with BoW Accuracy: 0.883725\n",
      "Classification Report with BoW:\n",
      "              precision    recall  f1-score   support\n",
      "\n",
      "           1       0.89      0.88      0.88    200000\n",
      "           2       0.88      0.89      0.88    200000\n",
      "\n",
      "    accuracy                           0.88    400000\n",
      "   macro avg       0.88      0.88      0.88    400000\n",
      "weighted avg       0.88      0.88      0.88    400000\n",
      "\n"
     ]
    }
   ],
   "source": [
    "accuracy_bow = accuracy_score(y_test, y_pred_bow)\n",
    "print(\"Logistic Regression with BoW Accuracy:\", accuracy_bow)\n",
    "print(\"Classification Report with BoW:\")\n",
    "print(classification_report(y_test, y_pred_bow))"
   ]
  },
  {
   "cell_type": "code",
   "execution_count": 18,
   "id": "fd05aefb",
   "metadata": {
    "execution": {
     "iopub.execute_input": "2024-04-28T23:12:36.829298Z",
     "iopub.status.busy": "2024-04-28T23:12:36.828998Z",
     "iopub.status.idle": "2024-04-28T23:12:37.491189Z",
     "shell.execute_reply": "2024-04-28T23:12:37.490219Z"
    },
    "papermill": {
     "duration": 0.676812,
     "end_time": "2024-04-28T23:12:37.493429",
     "exception": false,
     "start_time": "2024-04-28T23:12:36.816617",
     "status": "completed"
    },
    "tags": []
   },
   "outputs": [
    {
     "data": {
      "image/png": "[encoded data removed]",
      "text/plain": [
       "<Figure size 800x600 with 2 Axes>"
      ]
     },
     "metadata": {},
     "output_type": "display_data"
    }
   ],
   "source": [
    "cm_bow = confusion_matrix(y_test, y_pred_bow)\n",
    "plt.figure(figsize=(8, 6))\n",
    "sns.heatmap(cm_bow, annot=True, fmt='d', cmap='Blues', xticklabels=['Negative', 'Positive'], yticklabels=['Negative', 'Positive'])\n",
    "plt.xlabel('Predicted Label')\n",
    "plt.ylabel('True Label')\n",
    "plt.title('Confusion Matrix Heat Map for BoW')\n",
    "plt.show()"
   ]
  },
  {
   "cell_type": "markdown",
   "id": "8d04deff",
   "metadata": {
    "papermill": {
     "duration": 0.011717,
     "end_time": "2024-04-28T23:12:37.516862",
     "exception": false,
     "start_time": "2024-04-28T23:12:37.505145",
     "status": "completed"
    },
    "tags": []
   },
   "source": [
    "### LR using TF-IDF"
   ]
  },
  {
   "cell_type": "code",
   "execution_count": 19,
   "id": "dd147c50",
   "metadata": {
    "execution": {
     "iopub.execute_input": "2024-04-28T23:12:37.540715Z",
     "iopub.status.busy": "2024-04-28T23:12:37.540376Z",
     "iopub.status.idle": "2024-04-28T23:15:12.592128Z",
     "shell.execute_reply": "2024-04-28T23:15:12.590872Z"
    },
    "papermill": {
     "duration": 155.08503,
     "end_time": "2024-04-28T23:15:12.613153",
     "exception": false,
     "start_time": "2024-04-28T23:12:37.528123",
     "status": "completed"
    },
    "tags": []
   },
   "outputs": [
    {
     "data": {
      "text/html": [
       "<style>#sk-container-id-2 {color: black;background-color: white;}#sk-container-id-2 pre{padding: 0;}#sk-container-id-2 div.sk-toggleable {background-color: white;}#sk-container-id-2 label.sk-toggleable__label {cursor: pointer;display: block;width: 100%;margin-bottom: 0;padding: 0.3em;box-sizing: border-box;text-align: center;}#sk-container-id-2 label.sk-toggleable__label-arrow:before {content: \"▸\";float: left;margin-right: 0.25em;color: #696969;}#sk-container-id-2 label.sk-toggleable__label-arrow:hover:before {color: black;}#sk-container-id-2 div.sk-estimator:hover label.sk-toggleable__label-arrow:before {color: black;}#sk-container-id-2 div.sk-toggleable__content {max-height: 0;max-width: 0;overflow: hidden;text-align: left;background-color: #f0f8ff;}#sk-container-id-2 div.sk-toggleable__content pre {margin: 0.2em;color: black;border-radius: 0.25em;background-color: #f0f8ff;}#sk-container-id-2 input.sk-toggleable__control:checked~div.sk-toggleable__content {max-height: 200px;max-width: 100%;overflow: auto;}#sk-container-id-2 input.sk-toggleable__control:checked~label.sk-toggleable__label-arrow:before {content: \"▾\";}#sk-container-id-2 div.sk-estimator input.sk-toggleable__control:checked~label.sk-toggleable__label {background-color: #d4ebff;}#sk-container-id-2 div.sk-label input.sk-toggleable__control:checked~label.sk-toggleable__label {background-color: #d4ebff;}#sk-container-id-2 input.sk-hidden--visually {border: 0;clip: rect(1px 1px 1px 1px);clip: rect(1px, 1px, 1px, 1px);height: 1px;margin: -1px;overflow: hidden;padding: 0;position: absolute;width: 1px;}#sk-container-id-2 div.sk-estimator {font-family: monospace;background-color: #f0f8ff;border: 1px dotted black;border-radius: 0.25em;box-sizing: border-box;margin-bottom: 0.5em;}#sk-container-id-2 div.sk-estimator:hover {background-color: #d4ebff;}#sk-container-id-2 div.sk-parallel-item::after {content: \"\";width: 100%;border-bottom: 1px solid gray;flex-grow: 1;}#sk-container-id-2 div.sk-label:hover label.sk-toggleable__label {background-color: #d4ebff;}#sk-container-id-2 div.sk-serial::before {content: \"\";position: absolute;border-left: 1px solid gray;box-sizing: border-box;top: 0;bottom: 0;left: 50%;z-index: 0;}#sk-container-id-2 div.sk-serial {display: flex;flex-direction: column;align-items: center;background-color: white;padding-right: 0.2em;padding-left: 0.2em;position: relative;}#sk-container-id-2 div.sk-item {position: relative;z-index: 1;}#sk-container-id-2 div.sk-parallel {display: flex;align-items: stretch;justify-content: center;background-color: white;position: relative;}#sk-container-id-2 div.sk-item::before, #sk-container-id-2 div.sk-parallel-item::before {content: \"\";position: absolute;border-left: 1px solid gray;box-sizing: border-box;top: 0;bottom: 0;left: 50%;z-index: -1;}#sk-container-id-2 div.sk-parallel-item {display: flex;flex-direction: column;z-index: 1;position: relative;background-color: white;}#sk-container-id-2 div.sk-parallel-item:first-child::after {align-self: flex-end;width: 50%;}#sk-container-id-2 div.sk-parallel-item:last-child::after {align-self: flex-start;width: 50%;}#sk-container-id-2 div.sk-parallel-item:only-child::after {width: 0;}#sk-container-id-2 div.sk-dashed-wrapped {border: 1px dashed gray;margin: 0 0.4em 0.5em 0.4em;box-sizing: border-box;padding-bottom: 0.4em;background-color: white;}#sk-container-id-2 div.sk-label label {font-family: monospace;font-weight: bold;display: inline-block;line-height: 1.2em;}#sk-container-id-2 div.sk-label-container {text-align: center;}#sk-container-id-2 div.sk-container {/* jupyter's `normalize.less` sets `[hidden] { display: none; }` but bootstrap.min.css set `[hidden] { display: none !important; }` so we also need the `!important` here to be able to override the default hidden behavior on the sphinx rendered scikit-learn.org. See: https://github.com/scikit-learn/scikit-learn/issues/21755 */display: inline-block !important;position: relative;}#sk-container-id-2 div.sk-text-repr-fallback {display: none;}</style><div id=\"sk-container-id-2\" class=\"sk-top-container\"><div class=\"sk-text-repr-fallback\"><pre>LogisticRegression(max_iter=1000000)</pre><b>In a Jupyter environment, please rerun this cell to show the HTML representation or trust the notebook. <br />On GitHub, the HTML representation is unable to render, please try loading this page with nbviewer.org.</b></div><div class=\"sk-container\" hidden><div class=\"sk-item\"><div class=\"sk-estimator sk-toggleable\"><input class=\"sk-toggleable__control sk-hidden--visually\" id=\"sk-estimator-id-2\" type=\"checkbox\" checked><label for=\"sk-estimator-id-2\" class=\"sk-toggleable__label sk-toggleable__label-arrow\">LogisticRegression</label><div class=\"sk-toggleable__content\"><pre>LogisticRegression(max_iter=1000000)</pre></div></div></div></div></div>"
      ],
      "text/plain": [
       "LogisticRegression(max_iter=1000000)"
      ]
     },
     "execution_count": 19,
     "metadata": {},
     "output_type": "execute_result"
    }
   ],
   "source": [
    "lr_tfidf = LogisticRegression(max_iter=X_train_tfidf.shape[0])\n",
    "lr_tfidf.fit(X_train_tfidf, y_train)"
   ]
  },
  {
   "cell_type": "code",
   "execution_count": 20,
   "id": "52856f2f",
   "metadata": {
    "execution": {
     "iopub.execute_input": "2024-04-28T23:15:12.664965Z",
     "iopub.status.busy": "2024-04-28T23:15:12.664380Z",
     "iopub.status.idle": "2024-04-28T23:15:12.719641Z",
     "shell.execute_reply": "2024-04-28T23:15:12.718516Z"
    },
    "papermill": {
     "duration": 0.083923,
     "end_time": "2024-04-28T23:15:12.721937",
     "exception": false,
     "start_time": "2024-04-28T23:15:12.638014",
     "status": "completed"
    },
    "tags": []
   },
   "outputs": [],
   "source": [
    "y_pred_tfidf = lr_tfidf.predict(X_test_tfidf)"
   ]
  },
  {
   "cell_type": "code",
   "execution_count": 21,
   "id": "a060af71",
   "metadata": {
    "execution": {
     "iopub.execute_input": "2024-04-28T23:15:12.748980Z",
     "iopub.status.busy": "2024-04-28T23:15:12.748667Z",
     "iopub.status.idle": "2024-04-28T23:15:12.924245Z",
     "shell.execute_reply": "2024-04-28T23:15:12.923311Z"
    },
    "papermill": {
     "duration": 0.190704,
     "end_time": "2024-04-28T23:15:12.926467",
     "exception": false,
     "start_time": "2024-04-28T23:15:12.735763",
     "status": "completed"
    },
    "tags": []
   },
   "outputs": [
    {
     "name": "stdout",
     "output_type": "stream",
     "text": [
      "Logistic Regression with TF-IDF Accuracy: 0.8874125\n",
      "Classification Report with TF-IDF:\n",
      "              precision    recall  f1-score   support\n",
      "\n",
      "           1       0.89      0.88      0.89    200000\n",
      "           2       0.88      0.89      0.89    200000\n",
      "\n",
      "    accuracy                           0.89    400000\n",
      "   macro avg       0.89      0.89      0.89    400000\n",
      "weighted avg       0.89      0.89      0.89    400000\n",
      "\n"
     ]
    }
   ],
   "source": [
    "accuracy_tfidf = accuracy_score(y_test, y_pred_tfidf)\n",
    "print(\"Logistic Regression with TF-IDF Accuracy:\", accuracy_tfidf)\n",
    "print(\"Classification Report with TF-IDF:\")\n",
    "print(classification_report(y_test, y_pred_tfidf))"
   ]
  },
  {
   "cell_type": "code",
   "execution_count": 22,
   "id": "185903fd",
   "metadata": {
    "execution": {
     "iopub.execute_input": "2024-04-28T23:15:12.951824Z",
     "iopub.status.busy": "2024-04-28T23:15:12.951552Z",
     "iopub.status.idle": "2024-04-28T23:15:13.575737Z",
     "shell.execute_reply": "2024-04-28T23:15:13.574873Z"
    },
    "papermill": {
     "duration": 0.639185,
     "end_time": "2024-04-28T23:15:13.577978",
     "exception": false,
     "start_time": "2024-04-28T23:15:12.938793",
     "status": "completed"
    },
    "tags": []
   },
   "outputs": [
    {
     "data": {
      "image/png": "[encoded data removed]",
      "text/plain": [
       "<Figure size 800x600 with 2 Axes>"
      ]
     },
     "metadata": {},
     "output_type": "display_data"
    }
   ],
   "source": [
    "cm_tfidf = confusion_matrix(y_test, y_pred_tfidf)\n",
    "plt.figure(figsize=(8, 6))\n",
    "sns.heatmap(cm_tfidf, annot=True, fmt='d', cmap='Blues', xticklabels=['Negative', 'Positive'], yticklabels=['Negative', 'Positive'])\n",
    "plt.xlabel('Predicted Label')\n",
    "plt.ylabel('True Label')\n",
    "plt.title('Confusion Matrix Heat Map for TF-IDF')\n",
    "plt.show()"
   ]
  },
  {
   "cell_type": "markdown",
   "id": "5f4b098d",
   "metadata": {
    "papermill": {
     "duration": 0.01232,
     "end_time": "2024-04-28T23:15:13.602944",
     "exception": false,
     "start_time": "2024-04-28T23:15:13.590624",
     "status": "completed"
    },
    "tags": []
   },
   "source": [
    "### LR using Word2Vec"
   ]
  },
  {
   "cell_type": "code",
   "execution_count": 23,
   "id": "544c539c",
   "metadata": {
    "execution": {
     "iopub.execute_input": "2024-04-28T23:15:13.628628Z",
     "iopub.status.busy": "2024-04-28T23:15:13.628348Z",
     "iopub.status.idle": "2024-04-28T23:16:14.877351Z",
     "shell.execute_reply": "2024-04-28T23:16:14.875994Z"
    },
    "papermill": {
     "duration": 61.28465,
     "end_time": "2024-04-28T23:16:14.899943",
     "exception": false,
     "start_time": "2024-04-28T23:15:13.615293",
     "status": "completed"
    },
    "tags": []
   },
   "outputs": [
    {
     "data": {
      "text/html": [
       "<style>#sk-container-id-3 {color: black;background-color: white;}#sk-container-id-3 pre{padding: 0;}#sk-container-id-3 div.sk-toggleable {background-color: white;}#sk-container-id-3 label.sk-toggleable__label {cursor: pointer;display: block;width: 100%;margin-bottom: 0;padding: 0.3em;box-sizing: border-box;text-align: center;}#sk-container-id-3 label.sk-toggleable__label-arrow:before {content: \"▸\";float: left;margin-right: 0.25em;color: #696969;}#sk-container-id-3 label.sk-toggleable__label-arrow:hover:before {color: black;}#sk-container-id-3 div.sk-estimator:hover label.sk-toggleable__label-arrow:before {color: black;}#sk-container-id-3 div.sk-toggleable__content {max-height: 0;max-width: 0;overflow: hidden;text-align: left;background-color: #f0f8ff;}#sk-container-id-3 div.sk-toggleable__content pre {margin: 0.2em;color: black;border-radius: 0.25em;background-color: #f0f8ff;}#sk-container-id-3 input.sk-toggleable__control:checked~div.sk-toggleable__content {max-height: 200px;max-width: 100%;overflow: auto;}#sk-container-id-3 input.sk-toggleable__control:checked~label.sk-toggleable__label-arrow:before {content: \"▾\";}#sk-container-id-3 div.sk-estimator input.sk-toggleable__control:checked~label.sk-toggleable__label {background-color: #d4ebff;}#sk-container-id-3 div.sk-label input.sk-toggleable__control:checked~label.sk-toggleable__label {background-color: #d4ebff;}#sk-container-id-3 input.sk-hidden--visually {border: 0;clip: rect(1px 1px 1px 1px);clip: rect(1px, 1px, 1px, 1px);height: 1px;margin: -1px;overflow: hidden;padding: 0;position: absolute;width: 1px;}#sk-container-id-3 div.sk-estimator {font-family: monospace;background-color: #f0f8ff;border: 1px dotted black;border-radius: 0.25em;box-sizing: border-box;margin-bottom: 0.5em;}#sk-container-id-3 div.sk-estimator:hover {background-color: #d4ebff;}#sk-container-id-3 div.sk-parallel-item::after {content: \"\";width: 100%;border-bottom: 1px solid gray;flex-grow: 1;}#sk-container-id-3 div.sk-label:hover label.sk-toggleable__label {background-color: #d4ebff;}#sk-container-id-3 div.sk-serial::before {content: \"\";position: absolute;border-left: 1px solid gray;box-sizing: border-box;top: 0;bottom: 0;left: 50%;z-index: 0;}#sk-container-id-3 div.sk-serial {display: flex;flex-direction: column;align-items: center;background-color: white;padding-right: 0.2em;padding-left: 0.2em;position: relative;}#sk-container-id-3 div.sk-item {position: relative;z-index: 1;}#sk-container-id-3 div.sk-parallel {display: flex;align-items: stretch;justify-content: center;background-color: white;position: relative;}#sk-container-id-3 div.sk-item::before, #sk-container-id-3 div.sk-parallel-item::before {content: \"\";position: absolute;border-left: 1px solid gray;box-sizing: border-box;top: 0;bottom: 0;left: 50%;z-index: -1;}#sk-container-id-3 div.sk-parallel-item {display: flex;flex-direction: column;z-index: 1;position: relative;background-color: white;}#sk-container-id-3 div.sk-parallel-item:first-child::after {align-self: flex-end;width: 50%;}#sk-container-id-3 div.sk-parallel-item:last-child::after {align-self: flex-start;width: 50%;}#sk-container-id-3 div.sk-parallel-item:only-child::after {width: 0;}#sk-container-id-3 div.sk-dashed-wrapped {border: 1px dashed gray;margin: 0 0.4em 0.5em 0.4em;box-sizing: border-box;padding-bottom: 0.4em;background-color: white;}#sk-container-id-3 div.sk-label label {font-family: monospace;font-weight: bold;display: inline-block;line-height: 1.2em;}#sk-container-id-3 div.sk-label-container {text-align: center;}#sk-container-id-3 div.sk-container {/* jupyter's `normalize.less` sets `[hidden] { display: none; }` but bootstrap.min.css set `[hidden] { display: none !important; }` so we also need the `!important` here to be able to override the default hidden behavior on the sphinx rendered scikit-learn.org. See: https://github.com/scikit-learn/scikit-learn/issues/21755 */display: inline-block !important;position: relative;}#sk-container-id-3 div.sk-text-repr-fallback {display: none;}</style><div id=\"sk-container-id-3\" class=\"sk-top-container\"><div class=\"sk-text-repr-fallback\"><pre>LogisticRegression(max_iter=1000000)</pre><b>In a Jupyter environment, please rerun this cell to show the HTML representation or trust the notebook. <br />On GitHub, the HTML representation is unable to render, please try loading this page with nbviewer.org.</b></div><div class=\"sk-container\" hidden><div class=\"sk-item\"><div class=\"sk-estimator sk-toggleable\"><input class=\"sk-toggleable__control sk-hidden--visually\" id=\"sk-estimator-id-3\" type=\"checkbox\" checked><label for=\"sk-estimator-id-3\" class=\"sk-toggleable__label sk-toggleable__label-arrow\">LogisticRegression</label><div class=\"sk-toggleable__content\"><pre>LogisticRegression(max_iter=1000000)</pre></div></div></div></div></div>"
      ],
      "text/plain": [
       "LogisticRegression(max_iter=1000000)"
      ]
     },
     "execution_count": 23,
     "metadata": {},
     "output_type": "execute_result"
    }
   ],
   "source": [
    "lr_word2vec = LogisticRegression(max_iter=X_train_word2vec.shape[0])\n",
    "lr_word2vec.fit(X_train_word2vec, y_train)"
   ]
  },
  {
   "cell_type": "code",
   "execution_count": 24,
   "id": "14ac7255",
   "metadata": {
    "execution": {
     "iopub.execute_input": "2024-04-28T23:16:14.961548Z",
     "iopub.status.busy": "2024-04-28T23:16:14.961012Z",
     "iopub.status.idle": "2024-04-28T23:16:15.264773Z",
     "shell.execute_reply": "2024-04-28T23:16:15.263353Z"
    },
    "papermill": {
     "duration": 0.340717,
     "end_time": "2024-04-28T23:16:15.269251",
     "exception": false,
     "start_time": "2024-04-28T23:16:14.928534",
     "status": "completed"
    },
    "tags": []
   },
   "outputs": [],
   "source": [
    "y_pred_word2vec = lr_word2vec.predict(X_test_word2vec)"
   ]
  },
  {
   "cell_type": "code",
   "execution_count": 25,
   "id": "29fe929c",
   "metadata": {
    "execution": {
     "iopub.execute_input": "2024-04-28T23:16:15.327575Z",
     "iopub.status.busy": "2024-04-28T23:16:15.327054Z",
     "iopub.status.idle": "2024-04-28T23:16:15.534642Z",
     "shell.execute_reply": "2024-04-28T23:16:15.533481Z"
    },
    "papermill": {
     "duration": 0.238806,
     "end_time": "2024-04-28T23:16:15.536719",
     "exception": false,
     "start_time": "2024-04-28T23:16:15.297913",
     "status": "completed"
    },
    "tags": []
   },
   "outputs": [
    {
     "name": "stdout",
     "output_type": "stream",
     "text": [
      "Logistic Regression with Word2Vec Accuracy: 0.86993\n",
      "Classification Report with Word2Vec:\n",
      "              precision    recall  f1-score   support\n",
      "\n",
      "           1       0.87      0.87      0.87    200000\n",
      "           2       0.87      0.87      0.87    200000\n",
      "\n",
      "    accuracy                           0.87    400000\n",
      "   macro avg       0.87      0.87      0.87    400000\n",
      "weighted avg       0.87      0.87      0.87    400000\n",
      "\n"
     ]
    }
   ],
   "source": [
    "accuracy_word2vec = accuracy_score(y_test, y_pred_word2vec)\n",
    "print(\"Logistic Regression with Word2Vec Accuracy:\", accuracy_word2vec)\n",
    "print(\"Classification Report with Word2Vec:\")\n",
    "print(classification_report(y_test, y_pred_word2vec))"
   ]
  },
  {
   "cell_type": "code",
   "execution_count": 26,
   "id": "9c6ed27e",
   "metadata": {
    "execution": {
     "iopub.execute_input": "2024-04-28T23:16:15.565308Z",
     "iopub.status.busy": "2024-04-28T23:16:15.564500Z",
     "iopub.status.idle": "2024-04-28T23:16:16.207859Z",
     "shell.execute_reply": "2024-04-28T23:16:16.206888Z"
    },
    "papermill": {
     "duration": 0.659108,
     "end_time": "2024-04-28T23:16:16.209844",
     "exception": false,
     "start_time": "2024-04-28T23:16:15.550736",
     "status": "completed"
    },
    "tags": []
   },
   "outputs": [
    {
     "data": {
      "image/png": "[encoded data removed]",
      "text/plain": [
       "<Figure size 800x600 with 2 Axes>"
      ]
     },
     "metadata": {},
     "output_type": "display_data"
    }
   ],
   "source": [
    "cm_word2vec = confusion_matrix(y_test, y_pred_word2vec)\n",
    "plt.figure(figsize=(8, 6))\n",
    "sns.heatmap(cm_word2vec, annot=True, fmt='d', cmap='Blues', xticklabels=['Negative', 'Positive'], yticklabels=['Negative', 'Positive'])\n",
    "plt.xlabel('Predicted Label')\n",
    "plt.ylabel('True Label')\n",
    "plt.title('Confusion Matrix Heat Map for Word2Vec')\n",
    "plt.show()"
   ]
  },
  {
   "cell_type": "markdown",
   "id": "9e8b3300",
   "metadata": {
    "papermill": {
     "duration": 0.013094,
     "end_time": "2024-04-28T23:16:16.236980",
     "exception": false,
     "start_time": "2024-04-28T23:16:16.223886",
     "status": "completed"
    },
    "tags": []
   },
   "source": [
    "## Model Comparision"
   ]
  },
  {
   "cell_type": "code",
   "execution_count": 27,
   "id": "8305446b",
   "metadata": {
    "execution": {
     "iopub.execute_input": "2024-04-28T23:16:16.265977Z",
     "iopub.status.busy": "2024-04-28T23:16:16.265574Z",
     "iopub.status.idle": "2024-04-28T23:16:16.497798Z",
     "shell.execute_reply": "2024-04-28T23:16:16.496883Z"
    },
    "papermill": {
     "duration": 0.248981,
     "end_time": "2024-04-28T23:16:16.499728",
     "exception": false,
     "start_time": "2024-04-28T23:16:16.250747",
     "status": "completed"
    },
    "tags": []
   },
   "outputs": [
    {
     "data": {
      "image/png": "[encoded data removed]",
      "text/plain": [
       "<Figure size 1000x600 with 1 Axes>"
      ]
     },
     "metadata": {},
     "output_type": "display_data"
    }
   ],
   "source": [
    "models = ['BoW', 'TF-IDF', 'Word2Vec']\n",
    "accuracies = [accuracy_bow, accuracy_tfidf, accuracy_word2vec]\n",
    "\n",
    "plt.figure(figsize=(10, 6))\n",
    "plt.bar(models, accuracies, color='skyblue')\n",
    "plt.xlabel('Models')\n",
    "plt.ylabel('Accuracy')\n",
    "plt.title('Comparison of Different Models')\n",
    "plt.ylim(0, 1)\n",
    "plt.show()"
   ]
  },
  {
   "cell_type": "code",
   "execution_count": null,
   "id": "bba3a2bb",
   "metadata": {
    "papermill": {
     "duration": 0.013629,
     "end_time": "2024-04-28T23:16:16.527423",
     "exception": false,
     "start_time": "2024-04-28T23:16:16.513794",
     "status": "completed"
    },
    "tags": []
   },
   "outputs": [],
   "source": []
  }
 ],
 "metadata": {
  "kaggle": {
   "accelerator": "gpu",
   "dataSources": [
    {
     "datasetId": 1340369,
     "sourceId": 2233682,
     "sourceType": "datasetVersion"
    }
   ],
   "dockerImageVersionId": 30698,
   "isGpuEnabled": true,
   "isInternetEnabled": true,
   "language": "python",
   "sourceType": "notebook"
  },
  "kernelspec": {
   "display_name": "Python 3 (ipykernel)",
   "language": "python",
   "name": "python3"
  },
  "language_info": {
   "codemirror_mode": {
    "name": "ipython",
    "version": 3
   },
   "file_extension": ".py",
   "mimetype": "text/x-python",
   "name": "python",
   "nbconvert_exporter": "python",
   "pygments_lexer": "ipython3",
   "version": "3.11.5"
  },
  "papermill": {
   "default_parameters": {},
   "duration": 6221.325363,
   "end_time": "2024-04-28T23:16:19.373952",
   "environment_variables": {},
   "exception": null,
   "input_path": "__notebook__.ipynb",
   "output_path": "__notebook__.ipynb",
   "parameters": {},
   "start_time": "2024-04-28T21:32:38.048589",
   "version": "2.5.0"
  }
 },
 "nbformat": 4,
 "nbformat_minor": 5
}
